{
 "cells": [
  {
   "cell_type": "markdown",
   "metadata": {},
   "source": [
    "# Sleep data exploration "
   ]
  },
  {
   "cell_type": "code",
   "execution_count": 3,
   "metadata": {},
   "outputs": [
    {
     "name": "stdout",
     "output_type": "stream",
     "text": [
      "   Age  Gender meals/day physical illness  screen time bluelight filter  \\\n",
      "0   22    Male       two               no         2hrs              yes   \n",
      "1   22  Female     three               no      3-4 hrs               no   \n",
      "2   23    Male     three               no      3-4 hrs               no   \n",
      "3   23  Female       two               no      1-2 hrs               no   \n",
      "4   22    Male     three               no  more than 5              yes   \n",
      "\n",
      "  sleep direction   exercise smoke/drink             beverage  sleep time  \n",
      "0            west  sometimes          no                  Tea      6.7575  \n",
      "1           south         no          no               Coffee      8.0000  \n",
      "2           south         no          no                  Tea      8.0000  \n",
      "3            east  sometimes          no               Coffee      6.5000  \n",
      "4            east  sometimes         yes  Tea and Coffee both      6.0000  \n",
      "24.76086956521739\n",
      "Male                 26\n",
      "Female               18\n",
      "Prefer not to say     2\n",
      "Name: Gender, dtype: int64\n"
     ]
    }
   ],
   "source": [
    "import pandas as pd \n",
    "import numpy as np \n",
    "\n",
    "sleep = pd.read_csv(\"Sleep_Analysis.csv\")\n",
    "print(sleep.head(n=5))\n",
    "sleep.isnull().sum() #No missing values\n",
    "\n",
    "print(sleep['Age'].mean())\n",
    "print(sleep['Gender'].value_counts())"
   ]
  },
  {
   "cell_type": "markdown",
   "metadata": {},
   "source": [
    "## Transforming some of the variables to improve class balance"
   ]
  },
  {
   "cell_type": "code",
   "execution_count": 5,
   "metadata": {},
   "outputs": [
    {
     "name": "stdout",
     "output_type": "stream",
     "text": [
      "three          22\n",
      "two            16\n",
      "one             3\n",
      "four            3\n",
      "five            1\n",
      "more than 5     1\n",
      "Name: meals/day, dtype: int64\n",
      "3 or more meals per day    27\n",
      "1-2 meals per day          19\n",
      "Name: meals_trans, dtype: int64\n"
     ]
    }
   ],
   "source": [
    "#transforming meals per day variable into two categories considering 4 of the classes have little samples\n",
    "# New classes are 1-2 meals a day and 3 or more meals a day\n",
    "#print(sleep['meals/day'].value_counts())\n",
    "\n",
    "sleep['meals_trans'] = sleep['meals/day'].str.replace(\"one\", \"1-2 meals per day\").str.replace(\"two\", \"1-2 meals per day\")\\\n",
    ".str.replace(\"three\", \"3 or more meals per day\").str.replace(\"four\", \"3 or more meals per day\").str.replace\\\n",
    "(\"five\", \"3 or more meals per day\" ).str.replace(\"more than 5\", \"3 or more meals per day\")\n",
    "\n",
    "print(sleep['meals/day'].value_counts())\n",
    "print(sleep['meals_trans'].value_counts())"
   ]
  },
  {
   "cell_type": "code",
   "execution_count": 3,
   "metadata": {},
   "outputs": [
    {
     "name": "stdout",
     "output_type": "stream",
     "text": [
      "no     42\n",
      "yes     4\n",
      "Name: physical illness, dtype: int64\n"
     ]
    }
   ],
   "source": [
    "print(sleep['physical illness'].value_counts()) #not enough samples in yes class to use feature"
   ]
  },
  {
   "cell_type": "code",
   "execution_count": 4,
   "metadata": {},
   "outputs": [
    {
     "name": "stdout",
     "output_type": "stream",
     "text": [
      "more than 5    16\n",
      "2-3 hrs         8\n",
      "3-4 hrs         7\n",
      "4-5 hrs         6\n",
      "1-2 hrs         6\n",
      "0-1 hrs         2\n",
      "2hrs            1\n",
      "Name: screen time, dtype: int64\n",
      "3 or more hours    29\n",
      "0-3 hours          17\n",
      "Name: screentime_trans, dtype: int64\n"
     ]
    }
   ],
   "source": [
    "print(sleep['screen time'].value_counts())\n",
    "\n",
    "#transforming variable into two classes: 3 or more hours of screen time and 0-3 hours of screen time\n",
    "\n",
    "sleep['screentime_trans'] = sleep['screen time'].replace(\"more than 5\", \"3 or more hours\").replace(\"2-3 hrs\", \"0-3 hours\")\\\n",
    ".replace(\"3-4 hrs\", \"3 or more hours\").replace(\"4-5 hrs\", \"3 or more hours\"). replace(\"1-2 hrs\", \"0-3 hours\")\\\n",
    ".replace(\"0-1 hrs\", \"0-3 hours\").replace(\"2hrs\", \"0-3 hours\")\n",
    "\n",
    "print(sleep['screentime_trans'].value_counts())"
   ]
  },
  {
   "cell_type": "code",
   "execution_count": 5,
   "metadata": {},
   "outputs": [
    {
     "name": "stdout",
     "output_type": "stream",
     "text": [
      "yes    25\n",
      "no     21\n",
      "Name: bluelight filter, dtype: int64\n"
     ]
    }
   ],
   "source": [
    "print(sleep['bluelight filter'].value_counts()) #good balance and two class"
   ]
  },
  {
   "cell_type": "code",
   "execution_count": 6,
   "metadata": {},
   "outputs": [
    {
     "name": "stdout",
     "output_type": "stream",
     "text": [
      "west     16\n",
      "east     15\n",
      "north     9\n",
      "south     6\n",
      "Name: sleep direction, dtype: int64\n"
     ]
    }
   ],
   "source": [
    "print(sleep['sleep direction'].value_counts())"
   ]
  },
  {
   "cell_type": "code",
   "execution_count": 7,
   "metadata": {},
   "outputs": [
    {
     "name": "stdout",
     "output_type": "stream",
     "text": [
      "sometimes    23\n",
      "yes          12\n",
      "no           11\n",
      "Name: exercise, dtype: int64\n"
     ]
    }
   ],
   "source": [
    "print(sleep['exercise'].value_counts()) #use"
   ]
  },
  {
   "cell_type": "code",
   "execution_count": 8,
   "metadata": {},
   "outputs": [
    {
     "name": "stdout",
     "output_type": "stream",
     "text": [
      "no     42\n",
      "yes     4\n",
      "Name: smoke/drink, dtype: int64\n"
     ]
    }
   ],
   "source": [
    "print(sleep['smoke/drink'].value_counts()) #don't include as there is barely any samples that say yes"
   ]
  },
  {
   "cell_type": "code",
   "execution_count": 9,
   "metadata": {},
   "outputs": [
    {
     "name": "stdout",
     "output_type": "stream",
     "text": [
      "Tea                    22\n",
      "none of the above      10\n",
      "Tea and Coffee both     8\n",
      "Coffee                  6\n",
      "Name: beverage, dtype: int64\n"
     ]
    },
    {
     "data": {
      "text/plain": [
       "Tea                  22\n",
       "Coffee               14\n",
       "none of the above    10\n",
       "Name: Beverage_trans, dtype: int64"
      ]
     },
     "execution_count": 9,
     "metadata": {},
     "output_type": "execute_result"
    }
   ],
   "source": [
    "print(sleep['beverage'].value_counts()) #will convert coffee and tea, and coffee into a new class \"Coffee\". Considering coffee\n",
    "# has more caffeine than tea. this also balances samples out more better\n",
    "\n",
    "sleep['Beverage_trans'] = sleep['beverage'].replace(\"Tea and Coffee both\", \"Coffee\")\n",
    "sleep['Beverage_trans'].value_counts()"
   ]
  },
  {
   "cell_type": "markdown",
   "metadata": {},
   "source": [
    "## Transforming the dependent variabe (Amount of hours slept)"
   ]
  },
  {
   "cell_type": "code",
   "execution_count": 15,
   "metadata": {},
   "outputs": [
    {
     "name": "stdout",
     "output_type": "stream",
     "text": [
      "7.0000    16\n",
      "8.0000    12\n",
      "6.0000     7\n",
      "6.5000     3\n",
      "6.7575     2\n",
      "5.0000     2\n",
      "3.3300     1\n",
      "4.0000     1\n",
      "9.0000     1\n",
      "1.5000     1\n",
      "Name: sleep time, dtype: int64\n"
     ]
    },
    {
     "data": {
      "text/plain": [
       "7 or more hours slept      29\n",
       "less than 7 hours slept    17\n",
       "Name: sleeptime_trans, dtype: int64"
      ]
     },
     "execution_count": 15,
     "metadata": {},
     "output_type": "execute_result"
    }
   ],
   "source": [
    "print(sleep['sleep time'].value_counts()) \n",
    "\n",
    "#As can be seen, majority of samples fall within 7-8 hours sleep\n",
    "# a binary classification problem can be formed by 1 class consisting of 7 or more hours sleep (29 samples)\n",
    "# and less than 7 hours slept (17). This greatly improves class balance and allows classification algorithms to be used which\n",
    "#may be better suited. In addition, the variable is continuous in nature but has been discretised so it is a discrete variable.\n",
    "\n",
    "sleep['sleeptime_trans'] = sleep['sleep time'].replace(7.0000, \"7 or more hours slept\").replace(8.0000, \"7 or more hours slept\")\\\n",
    ".replace(6.0000, \"less than 7 hours slept\").replace(6.5000, \"less than 7 hours slept\").replace(6.7575, \"less than 7 hours slept\")\\\n",
    ".replace(5.0000, \"less than 7 hours slept\").replace(3.3300, \"less than 7 hours slept\").replace(4.0000, \"less than 7 hours slept\")\\\n",
    ".replace(9.0000, \"7 or more hours slept\").replace(1.5000, \"less than 7 hours slept\")\n",
    "\n",
    "sleep['sleeptime_trans'].value_counts()"
   ]
  },
  {
   "cell_type": "markdown",
   "metadata": {},
   "source": [
    "## Visualising some of the features on the DV"
   ]
  },
  {
   "cell_type": "code",
   "execution_count": 25,
   "metadata": {},
   "outputs": [
    {
     "data": {
      "text/plain": [
       "<matplotlib.axes._subplots.AxesSubplot at 0x1e04b6430d0>"
      ]
     },
     "execution_count": 25,
     "metadata": {},
     "output_type": "execute_result"
    },
    {
     "data": {
      "image/png": "[encoded data removed]",
      "text/plain": [
       "<Figure size 432x288 with 1 Axes>"
      ]
     },
     "metadata": {
      "needs_background": "light"
     },
     "output_type": "display_data"
    }
   ],
   "source": [
    "#Bluelight filter \n",
    "\n",
    "import matplotlib.pyplot as plt\n",
    "\n",
    "bluelight = sleep.groupby(\"bluelight filter\").sleeptime_trans.value_counts(normalize = True)\n",
    "bluelight = bluelight.unstack()\n",
    "bluelight.plot(kind = 'bar')\n",
    "\n",
    "#Blue light filter doesn't appear to make much of a difference on hours slept when eye balling the graph.\n",
    "\n"
   ]
  },
  {
   "cell_type": "code",
   "execution_count": 26,
   "metadata": {},
   "outputs": [
    {
     "data": {
      "text/plain": [
       "<matplotlib.axes._subplots.AxesSubplot at 0x1e04bd71580>"
      ]
     },
     "execution_count": 26,
     "metadata": {},
     "output_type": "execute_result"
    },
    {
     "data": {
      "image/png": "[encoded data removed]",
      "text/plain": [
       "<Figure size 432x288 with 1 Axes>"
      ]
     },
     "metadata": {
      "needs_background": "light"
     },
     "output_type": "display_data"
    }
   ],
   "source": [
    "#sleep direction \n",
    "\n",
    "sleep_direction = sleep.groupby(\"sleep direction\").sleeptime_trans.value_counts(normalize= True)\n",
    "sleep_direction = sleep_direction.unstack()\n",
    "sleep_direction.plot(kind = 'bar')\n",
    "\n",
    "#Sleeping in north or south direction tends to result in more sleep.\n",
    "#Sleep in east direction resulted in the least amount of sleep. "
   ]
  },
  {
   "cell_type": "code",
   "execution_count": 27,
   "metadata": {},
   "outputs": [
    {
     "data": {
      "text/plain": [
       "<matplotlib.axes._subplots.AxesSubplot at 0x1e04be34190>"
      ]
     },
     "execution_count": 27,
     "metadata": {},
     "output_type": "execute_result"
    },
    {
     "data": {
      "image/png": "[encoded data removed]",
      "text/plain": [
       "<Figure size 432x288 with 1 Axes>"
      ]
     },
     "metadata": {
      "needs_background": "light"
     },
     "output_type": "display_data"
    }
   ],
   "source": [
    "#exercise \n",
    "\n",
    "exercise = sleep.groupby(\"exercise\").sleeptime_trans.value_counts(normalize = True)\n",
    "exercise = exercise.unstack()\n",
    "exercise.plot(kind = 'bar')"
   ]
  },
  {
   "cell_type": "code",
   "execution_count": 29,
   "metadata": {},
   "outputs": [
    {
     "data": {
      "text/plain": [
       "<matplotlib.axes._subplots.AxesSubplot at 0x1e04befe970>"
      ]
     },
     "execution_count": 29,
     "metadata": {},
     "output_type": "execute_result"
    },
    {
     "data": {
      "image/png": "[encoded data removed]",
      "text/plain": [
       "<Figure size 432x288 with 1 Axes>"
      ]
     },
     "metadata": {
      "needs_background": "light"
     },
     "output_type": "display_data"
    }
   ],
   "source": [
    "#meals \n",
    "\n",
    "meals = sleep.groupby(\"meals_trans\").sleeptime_trans.value_counts(normalize = True)\n",
    "meals = meals.unstack()\n",
    "meals.plot(kind = 'bar')"
   ]
  },
  {
   "cell_type": "code",
   "execution_count": 31,
   "metadata": {},
   "outputs": [
    {
     "data": {
      "text/plain": [
       "<matplotlib.axes._subplots.AxesSubplot at 0x1e04bf63430>"
      ]
     },
     "execution_count": 31,
     "metadata": {},
     "output_type": "execute_result"
    },
    {
     "data": {
      "image/png": "[encoded data removed]",
      "text/plain": [
       "<Figure size 432x288 with 1 Axes>"
      ]
     },
     "metadata": {
      "needs_background": "light"
     },
     "output_type": "display_data"
    }
   ],
   "source": [
    "#Screen time\n",
    "\n",
    "screen = sleep.groupby(\"screentime_trans\").sleeptime_trans.value_counts(normalize = True)\n",
    "screen = screen.unstack()\n",
    "screen.plot(kind = 'bar')"
   ]
  },
  {
   "cell_type": "code",
   "execution_count": 32,
   "metadata": {},
   "outputs": [
    {
     "data": {
      "text/plain": [
       "<matplotlib.axes._subplots.AxesSubplot at 0x1e04bf93e50>"
      ]
     },
     "execution_count": 32,
     "metadata": {},
     "output_type": "execute_result"
    },
    {
     "data": {
      "image/png": "[encoded data removed]",
      "text/plain": [
       "<Figure size 432x288 with 1 Axes>"
      ]
     },
     "metadata": {
      "needs_background": "light"
     },
     "output_type": "display_data"
    }
   ],
   "source": [
    "#beverage \n",
    "\n",
    "bev = sleep.groupby(\"Beverage_trans\").sleeptime_trans.value_counts(normalize = True)\n",
    "bev = bev.unstack()\n",
    "bev.plot(kind = 'bar')\n",
    "\n",
    "#As can be seen from the graph, people who drink coffee before bed time tend to get the least amount of sleep.\n",
    "#People who don't drink coffee or tea before bed tend to sleep the most. Makes sense since caffeine can interfere with sleep"
   ]
  },
  {
   "cell_type": "markdown",
   "metadata": {},
   "source": [
    "## Creating new dataframe "
   ]
  },
  {
   "cell_type": "code",
   "execution_count": 33,
   "metadata": {},
   "outputs": [
    {
     "data": {
      "text/html": [
       "<div>\n",
       "<style scoped>\n",
       "    .dataframe tbody tr th:only-of-type {\n",
       "        vertical-align: middle;\n",
       "    }\n",
       "\n",
       "    .dataframe tbody tr th {\n",
       "        vertical-align: top;\n",
       "    }\n",
       "\n",
       "    .dataframe thead th {\n",
       "        text-align: right;\n",
       "    }\n",
       "</style>\n",
       "<table border=\"1\" class=\"dataframe\">\n",
       "  <thead>\n",
       "    <tr style=\"text-align: right;\">\n",
       "      <th></th>\n",
       "      <th>bluelight filter</th>\n",
       "      <th>sleep direction</th>\n",
       "      <th>exercise</th>\n",
       "      <th>meals_trans</th>\n",
       "      <th>screentime_trans</th>\n",
       "      <th>Beverage_trans</th>\n",
       "      <th>sleeptime_trans</th>\n",
       "    </tr>\n",
       "  </thead>\n",
       "  <tbody>\n",
       "    <tr>\n",
       "      <th>0</th>\n",
       "      <td>yes</td>\n",
       "      <td>west</td>\n",
       "      <td>sometimes</td>\n",
       "      <td>1-2 meals per day</td>\n",
       "      <td>0-3 hours</td>\n",
       "      <td>Tea</td>\n",
       "      <td>less than 7 hours slept</td>\n",
       "    </tr>\n",
       "    <tr>\n",
       "      <th>1</th>\n",
       "      <td>no</td>\n",
       "      <td>south</td>\n",
       "      <td>no</td>\n",
       "      <td>3 or more meals per day</td>\n",
       "      <td>3 or more hours</td>\n",
       "      <td>Coffee</td>\n",
       "      <td>7 or more hours slept</td>\n",
       "    </tr>\n",
       "    <tr>\n",
       "      <th>2</th>\n",
       "      <td>no</td>\n",
       "      <td>south</td>\n",
       "      <td>no</td>\n",
       "      <td>3 or more meals per day</td>\n",
       "      <td>3 or more hours</td>\n",
       "      <td>Tea</td>\n",
       "      <td>7 or more hours slept</td>\n",
       "    </tr>\n",
       "    <tr>\n",
       "      <th>3</th>\n",
       "      <td>no</td>\n",
       "      <td>east</td>\n",
       "      <td>sometimes</td>\n",
       "      <td>1-2 meals per day</td>\n",
       "      <td>0-3 hours</td>\n",
       "      <td>Coffee</td>\n",
       "      <td>less than 7 hours slept</td>\n",
       "    </tr>\n",
       "    <tr>\n",
       "      <th>4</th>\n",
       "      <td>yes</td>\n",
       "      <td>east</td>\n",
       "      <td>sometimes</td>\n",
       "      <td>3 or more meals per day</td>\n",
       "      <td>3 or more hours</td>\n",
       "      <td>Coffee</td>\n",
       "      <td>less than 7 hours slept</td>\n",
       "    </tr>\n",
       "  </tbody>\n",
       "</table>\n",
       "</div>"
      ],
      "text/plain": [
       "  bluelight filter sleep direction   exercise              meals_trans  \\\n",
       "0              yes            west  sometimes        1-2 meals per day   \n",
       "1               no           south         no  3 or more meals per day   \n",
       "2               no           south         no  3 or more meals per day   \n",
       "3               no            east  sometimes        1-2 meals per day   \n",
       "4              yes            east  sometimes  3 or more meals per day   \n",
       "\n",
       "  screentime_trans Beverage_trans          sleeptime_trans  \n",
       "0        0-3 hours            Tea  less than 7 hours slept  \n",
       "1  3 or more hours         Coffee    7 or more hours slept  \n",
       "2  3 or more hours            Tea    7 or more hours slept  \n",
       "3        0-3 hours         Coffee  less than 7 hours slept  \n",
       "4  3 or more hours         Coffee  less than 7 hours slept  "
      ]
     },
     "execution_count": 33,
     "metadata": {},
     "output_type": "execute_result"
    }
   ],
   "source": [
    "sleep_new = sleep.drop([\"Age\", \"Gender\", \"meals/day\", \"physical illness\", \"screen time\", \"smoke/drink\", \"sleep time\", 'beverage'], axis = 1)\n",
    "sleep_new.head(n=5)"
   ]
  },
  {
   "cell_type": "code",
   "execution_count": 34,
   "metadata": {},
   "outputs": [
    {
     "name": "stdout",
     "output_type": "stream",
     "text": [
      "  bluelight filter sleep direction   exercise        meals_trans  \\\n",
      "0              yes            west  sometimes  1-2 meals per day   \n",
      "\n",
      "  screentime_trans Beverage_trans  \n",
      "0        0-3 hours            Tea  \n"
     ]
    },
    {
     "data": {
      "text/plain": [
       "0    less than 7 hours slept\n",
       "Name: sleeptime_trans, dtype: object"
      ]
     },
     "execution_count": 34,
     "metadata": {},
     "output_type": "execute_result"
    }
   ],
   "source": [
    "X = sleep_new.drop(['sleeptime_trans'], axis = 1)\n",
    "print(X.head(n=1))\n",
    "\n",
    "y = sleep_new['sleeptime_trans']\n",
    "y.head(n=1)"
   ]
  },
  {
   "cell_type": "markdown",
   "metadata": {},
   "source": [
    "## Converting all features to dummy variables "
   ]
  },
  {
   "cell_type": "code",
   "execution_count": 35,
   "metadata": {},
   "outputs": [
    {
     "data": {
      "text/html": [
       "<div>\n",
       "<style scoped>\n",
       "    .dataframe tbody tr th:only-of-type {\n",
       "        vertical-align: middle;\n",
       "    }\n",
       "\n",
       "    .dataframe tbody tr th {\n",
       "        vertical-align: top;\n",
       "    }\n",
       "\n",
       "    .dataframe thead th {\n",
       "        text-align: right;\n",
       "    }\n",
       "</style>\n",
       "<table border=\"1\" class=\"dataframe\">\n",
       "  <thead>\n",
       "    <tr style=\"text-align: right;\">\n",
       "      <th></th>\n",
       "      <th>bluelight filter_yes</th>\n",
       "      <th>sleep direction_north</th>\n",
       "      <th>sleep direction_south</th>\n",
       "      <th>sleep direction_west</th>\n",
       "      <th>exercise_sometimes</th>\n",
       "      <th>exercise_yes</th>\n",
       "      <th>meals_trans_3 or more meals per day</th>\n",
       "      <th>screentime_trans_3 or more hours</th>\n",
       "      <th>Beverage_trans_Tea</th>\n",
       "      <th>Beverage_trans_none of the above</th>\n",
       "    </tr>\n",
       "  </thead>\n",
       "  <tbody>\n",
       "    <tr>\n",
       "      <th>0</th>\n",
       "      <td>1</td>\n",
       "      <td>0</td>\n",
       "      <td>0</td>\n",
       "      <td>1</td>\n",
       "      <td>1</td>\n",
       "      <td>0</td>\n",
       "      <td>0</td>\n",
       "      <td>0</td>\n",
       "      <td>1</td>\n",
       "      <td>0</td>\n",
       "    </tr>\n",
       "  </tbody>\n",
       "</table>\n",
       "</div>"
      ],
      "text/plain": [
       "   bluelight filter_yes  sleep direction_north  sleep direction_south  \\\n",
       "0                     1                      0                      0   \n",
       "\n",
       "   sleep direction_west  exercise_sometimes  exercise_yes  \\\n",
       "0                     1                   1             0   \n",
       "\n",
       "   meals_trans_3 or more meals per day  screentime_trans_3 or more hours  \\\n",
       "0                                    0                                 0   \n",
       "\n",
       "   Beverage_trans_Tea  Beverage_trans_none of the above  \n",
       "0                   1                                 0  "
      ]
     },
     "execution_count": 35,
     "metadata": {},
     "output_type": "execute_result"
    }
   ],
   "source": [
    "for i in X.columns:\n",
    "    X = pd.get_dummies(X, prefix=[i], columns = [i], drop_first = True)\n",
    "X.head(1)"
   ]
  },
  {
   "cell_type": "markdown",
   "metadata": {},
   "source": [
    "## Label encoding the target "
   ]
  },
  {
   "cell_type": "code",
   "execution_count": 42,
   "metadata": {},
   "outputs": [
    {
     "name": "stdout",
     "output_type": "stream",
     "text": [
      "Original encoding 0    less than 7 hours slept\n",
      "1      7 or more hours slept\n",
      "2      7 or more hours slept\n",
      "3    less than 7 hours slept\n",
      "4    less than 7 hours slept\n",
      "5    less than 7 hours slept\n",
      "6      7 or more hours slept\n",
      "7    less than 7 hours slept\n",
      "8      7 or more hours slept\n",
      "9      7 or more hours slept\n",
      "Name: sleeptime_trans, dtype: object\n",
      "Less than 7 hours slept is transformed to 1 while 7 or more hours slept is transformed to 0 [1 0 0 1 1]\n"
     ]
    }
   ],
   "source": [
    "from sklearn.preprocessing import LabelEncoder \n",
    "\n",
    "lab = LabelEncoder()\n",
    "lab.fit(y)\n",
    "y_trans = lab.transform(y)\n",
    "\n",
    "print(\"Original encoding\", y[:10])\n",
    "print(\"Less than 7 hours slept is transformed to 1 while 7 or more hours slept is transformed to 0\", y_trans[:5])\n"
   ]
  },
  {
   "cell_type": "markdown",
   "metadata": {},
   "source": [
    "# Fitting a logistic regression model"
   ]
  },
  {
   "cell_type": "code",
   "execution_count": 65,
   "metadata": {},
   "outputs": [
    {
     "name": "stdout",
     "output_type": "stream",
     "text": [
      "(32, 10)\n",
      "(14, 10)\n",
      "(32,)\n",
      "(14,)\n"
     ]
    }
   ],
   "source": [
    "from sklearn.linear_model import LogisticRegression\n",
    "from sklearn.model_selection import train_test_split \n",
    "\n",
    "model = LogisticRegression()\n",
    "\n",
    "X_train, X_test, y_train, y_test = train_test_split(X, y, test_size = 0.3, random_state = 10)\n",
    "\n",
    "print(X_train.shape)\n",
    "print(X_test.shape)\n",
    "print(y_train.shape)\n",
    "print(y_test.shape)"
   ]
  },
  {
   "cell_type": "code",
   "execution_count": 66,
   "metadata": {},
   "outputs": [
    {
     "name": "stdout",
     "output_type": "stream",
     "text": [
      "10\n",
      "Model accuracy on the test set was 0.7142857142857143\n"
     ]
    }
   ],
   "source": [
    "model.fit(X_train, y_train)\n",
    "\n",
    "y_pred = model.predict(X_test)\n",
    "print((y_test==y_pred).sum())\n",
    "accuracy = (y_test == y_pred).sum()/y_test.shape[0]\n",
    "print(\"Model accuracy on the test set was\", accuracy) #71% accurate. "
   ]
  },
  {
   "cell_type": "markdown",
   "metadata": {},
   "source": [
    "## Second model (Removing 2 of the original features )"
   ]
  },
  {
   "cell_type": "code",
   "execution_count": 70,
   "metadata": {},
   "outputs": [
    {
     "name": "stdout",
     "output_type": "stream",
     "text": [
      "  sleep direction   exercise screentime_trans Beverage_trans\n",
      "0            west  sometimes        0-3 hours            Tea\n"
     ]
    }
   ],
   "source": [
    "#Considering there are not many samples per the amount of features. two of the features will be removed to see if the model\n",
    "# performance can be improved\n",
    "\n",
    "X2 = sleep_new.drop(['sleeptime_trans', 'bluelight filter', 'meals_trans'], axis = 1)\n",
    "print(X2.head(n=1))"
   ]
  },
  {
   "cell_type": "code",
   "execution_count": 71,
   "metadata": {
    "scrolled": true
   },
   "outputs": [
    {
     "data": {
      "text/html": [
       "<div>\n",
       "<style scoped>\n",
       "    .dataframe tbody tr th:only-of-type {\n",
       "        vertical-align: middle;\n",
       "    }\n",
       "\n",
       "    .dataframe tbody tr th {\n",
       "        vertical-align: top;\n",
       "    }\n",
       "\n",
       "    .dataframe thead th {\n",
       "        text-align: right;\n",
       "    }\n",
       "</style>\n",
       "<table border=\"1\" class=\"dataframe\">\n",
       "  <thead>\n",
       "    <tr style=\"text-align: right;\">\n",
       "      <th></th>\n",
       "      <th>sleep direction_north</th>\n",
       "      <th>sleep direction_south</th>\n",
       "      <th>sleep direction_west</th>\n",
       "      <th>exercise_sometimes</th>\n",
       "      <th>exercise_yes</th>\n",
       "      <th>screentime_trans_3 or more hours</th>\n",
       "      <th>Beverage_trans_Tea</th>\n",
       "      <th>Beverage_trans_none of the above</th>\n",
       "    </tr>\n",
       "  </thead>\n",
       "  <tbody>\n",
       "    <tr>\n",
       "      <th>0</th>\n",
       "      <td>0</td>\n",
       "      <td>0</td>\n",
       "      <td>1</td>\n",
       "      <td>1</td>\n",
       "      <td>0</td>\n",
       "      <td>0</td>\n",
       "      <td>1</td>\n",
       "      <td>0</td>\n",
       "    </tr>\n",
       "  </tbody>\n",
       "</table>\n",
       "</div>"
      ],
      "text/plain": [
       "   sleep direction_north  sleep direction_south  sleep direction_west  \\\n",
       "0                      0                      0                     1   \n",
       "\n",
       "   exercise_sometimes  exercise_yes  screentime_trans_3 or more hours  \\\n",
       "0                   1             0                                 0   \n",
       "\n",
       "   Beverage_trans_Tea  Beverage_trans_none of the above  \n",
       "0                   1                                 0  "
      ]
     },
     "execution_count": 71,
     "metadata": {},
     "output_type": "execute_result"
    }
   ],
   "source": [
    "for i in X2.columns:\n",
    "    X2 = pd.get_dummies(X2, prefix=[i], columns = [i], drop_first = True)\n",
    "X2.head(1)"
   ]
  },
  {
   "cell_type": "markdown",
   "metadata": {},
   "source": [
    "## Second logistic regression model"
   ]
  },
  {
   "cell_type": "code",
   "execution_count": 89,
   "metadata": {},
   "outputs": [
    {
     "name": "stdout",
     "output_type": "stream",
     "text": [
      "(32, 8)\n",
      "(14, 8)\n",
      "(32,)\n",
      "(14,)\n"
     ]
    }
   ],
   "source": [
    "from sklearn.linear_model import LogisticRegression\n",
    "from sklearn.model_selection import train_test_split \n",
    "\n",
    "model2 = LogisticRegression()\n",
    "\n",
    "X_train, X_test, y_train, y_test = train_test_split(X2, y, test_size = 0.3, random_state = 10)\n",
    "\n",
    "print(X_train.shape)\n",
    "print(X_test.shape)\n",
    "print(y_train.shape)\n",
    "print(y_test.shape)"
   ]
  },
  {
   "cell_type": "code",
   "execution_count": 90,
   "metadata": {},
   "outputs": [
    {
     "name": "stdout",
     "output_type": "stream",
     "text": [
      "10\n",
      "Model accuracy on the test set was 0.7142857142857143\n"
     ]
    }
   ],
   "source": [
    "model2.fit(X_train, y_train)\n",
    "\n",
    "y_pred = model2.predict(X_test)\n",
    "print((y_test==y_pred).sum())\n",
    "accuracy = (y_test == y_pred).sum()/y_test.shape[0]\n",
    "print(\"Model accuracy on the test set was\", accuracy) #71% accurate. "
   ]
  }
 ],
 "metadata": {
  "kernelspec": {
   "display_name": "Python 3",
   "language": "python",
   "name": "python3"
  },
  "language_info": {
   "codemirror_mode": {
    "name": "ipython",
    "version": 3
   },
   "file_extension": ".py",
   "mimetype": "text/x-python",
   "name": "python",
   "nbconvert_exporter": "python",
   "pygments_lexer": "ipython3",
   "version": "3.8.3"
  }
 },
 "nbformat": 4,
 "nbformat_minor": 4
}
